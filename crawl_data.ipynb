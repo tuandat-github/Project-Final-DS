{
 "cells": [
  {
   "cell_type": "markdown",
   "metadata": {},
   "source": [
    "# <b>Mục tiêu</b>\n",
    "- Thu thập dữ liệu về thời tiết tại TP HCM theo từng ngày từ năm 2010 đến năm 2021.\n",
    "\n",
    "- Các trường dữ liệu sẽ thu thập bao gồm:\n",
    "    + Weather Type: Loại thời tiết\n",
    "    + Highest Temperature: Nhiệt độ cao nhất trong ngày ($^\\circ C$)\n",
    "    + Lowest Temperature: Nhiệt độ thấp nhất trong ngày ($^\\circ C$)\n",
    "    + Wind Speed: Tốc độ gió (km/h)\n",
    "    + Rain: Lượng mưa (mm)\n",
    "    + Humidity: Độ ẩm (%)\n",
    "    + Cloud: Độ che phủ của mây (%)\n",
    "    + Pressure: Áp suất không khí (mb)"
   ]
  },
  {
   "cell_type": "markdown",
   "metadata": {},
   "source": [
    "# <b>Import</b>"
   ]
  },
  {
   "cell_type": "code",
   "execution_count": 1,
   "metadata": {},
   "outputs": [],
   "source": [
    "import pandas as pd\n",
    "import numpy as np\n",
    "import re\n",
    "import csv"
   ]
  },
  {
   "cell_type": "code",
   "execution_count": 2,
   "metadata": {},
   "outputs": [
    {
     "name": "stdout",
     "output_type": "stream",
     "text": [
      "Requirement already satisfied: bs4 in c:\\users\\asus\\appdata\\local\\programs\\python\\python310\\lib\\site-packages (0.0.1)\n",
      "Requirement already satisfied: beautifulsoup4 in c:\\users\\asus\\appdata\\local\\programs\\python\\python310\\lib\\site-packages (from bs4) (4.11.1)\n",
      "Requirement already satisfied: soupsieve>1.2 in c:\\users\\asus\\appdata\\local\\programs\\python\\python310\\lib\\site-packages (from beautifulsoup4->bs4) (2.3.2.post1)\n",
      "Note: you may need to restart the kernel to use updated packages.\n"
     ]
    }
   ],
   "source": [
    "%pip install bs4"
   ]
  },
  {
   "cell_type": "code",
   "execution_count": 3,
   "metadata": {},
   "outputs": [],
   "source": [
    "from bs4 import BeautifulSoup"
   ]
  },
  {
   "cell_type": "code",
   "execution_count": 4,
   "metadata": {},
   "outputs": [
    {
     "name": "stdout",
     "output_type": "stream",
     "text": [
      "Requirement already satisfied: Selenium in c:\\users\\asus\\appdata\\local\\programs\\python\\python310\\lib\\site-packages (4.6.0)\n",
      "Requirement already satisfied: trio~=0.17 in c:\\users\\asus\\appdata\\local\\programs\\python\\python310\\lib\\site-packages (from Selenium) (0.22.0)\n",
      "Requirement already satisfied: trio-websocket~=0.9 in c:\\users\\asus\\appdata\\local\\programs\\python\\python310\\lib\\site-packages (from Selenium) (0.9.2)\n",
      "Requirement already satisfied: certifi>=2021.10.8 in c:\\users\\asus\\appdata\\local\\programs\\python\\python310\\lib\\site-packages (from Selenium) (2022.9.24)\n",
      "Requirement already satisfied: urllib3[socks]~=1.26 in c:\\users\\asus\\appdata\\local\\programs\\python\\python310\\lib\\site-packages (from Selenium) (1.26.12)\n",
      "Requirement already satisfied: cffi>=1.14 in c:\\users\\asus\\appdata\\local\\programs\\python\\python310\\lib\\site-packages (from trio~=0.17->Selenium) (1.15.1)\n",
      "Requirement already satisfied: idna in c:\\users\\asus\\appdata\\local\\programs\\python\\python310\\lib\\site-packages (from trio~=0.17->Selenium) (3.4)\n",
      "Requirement already satisfied: sortedcontainers in c:\\users\\asus\\appdata\\local\\programs\\python\\python310\\lib\\site-packages (from trio~=0.17->Selenium) (2.4.0)\n",
      "Requirement already satisfied: exceptiongroup>=1.0.0rc9 in c:\\users\\asus\\appdata\\local\\programs\\python\\python310\\lib\\site-packages (from trio~=0.17->Selenium) (1.0.4)\n",
      "Requirement already satisfied: sniffio in c:\\users\\asus\\appdata\\local\\programs\\python\\python310\\lib\\site-packages (from trio~=0.17->Selenium) (1.3.0)\n",
      "Requirement already satisfied: async-generator>=1.9 in c:\\users\\asus\\appdata\\local\\programs\\python\\python310\\lib\\site-packages (from trio~=0.17->Selenium) (1.10)\n",
      "Requirement already satisfied: outcome in c:\\users\\asus\\appdata\\local\\programs\\python\\python310\\lib\\site-packages (from trio~=0.17->Selenium) (1.2.0)\n",
      "Requirement already satisfied: attrs>=19.2.0 in c:\\users\\asus\\appdata\\local\\programs\\python\\python310\\lib\\site-packages (from trio~=0.17->Selenium) (22.1.0)\n",
      "Requirement already satisfied: wsproto>=0.14 in c:\\users\\asus\\appdata\\local\\programs\\python\\python310\\lib\\site-packages (from trio-websocket~=0.9->Selenium) (1.2.0)\n",
      "Requirement already satisfied: PySocks!=1.5.7,<2.0,>=1.5.6 in c:\\users\\asus\\appdata\\local\\programs\\python\\python310\\lib\\site-packages (from urllib3[socks]~=1.26->Selenium) (1.7.1)\n",
      "Requirement already satisfied: pycparser in c:\\users\\asus\\appdata\\local\\programs\\python\\python310\\lib\\site-packages (from cffi>=1.14->trio~=0.17->Selenium) (2.21)\n",
      "Requirement already satisfied: h11<1,>=0.9.0 in c:\\users\\asus\\appdata\\local\\programs\\python\\python310\\lib\\site-packages (from wsproto>=0.14->trio-websocket~=0.9->Selenium) (0.14.0)\n",
      "Note: you may need to restart the kernel to use updated packages.\n"
     ]
    }
   ],
   "source": [
    "%pip install Selenium"
   ]
  },
  {
   "cell_type": "code",
   "execution_count": 5,
   "metadata": {},
   "outputs": [
    {
     "name": "stdout",
     "output_type": "stream",
     "text": [
      "Requirement already satisfied: webdriver-manager in c:\\users\\asus\\appdata\\local\\programs\\python\\python310\\lib\\site-packages (3.8.5)Note: you may need to restart the kernel to use updated packages.\n",
      "\n",
      "Requirement already satisfied: packaging in c:\\users\\asus\\appdata\\local\\programs\\python\\python310\\lib\\site-packages (from webdriver-manager) (21.3)\n",
      "Requirement already satisfied: python-dotenv in c:\\users\\asus\\appdata\\local\\programs\\python\\python310\\lib\\site-packages (from webdriver-manager) (0.21.0)\n",
      "Requirement already satisfied: tqdm in c:\\users\\asus\\appdata\\local\\programs\\python\\python310\\lib\\site-packages (from webdriver-manager) (4.64.1)\n",
      "Requirement already satisfied: requests in c:\\users\\asus\\appdata\\local\\programs\\python\\python310\\lib\\site-packages (from webdriver-manager) (2.28.1)\n",
      "Requirement already satisfied: pyparsing!=3.0.5,>=2.0.2 in c:\\users\\asus\\appdata\\local\\programs\\python\\python310\\lib\\site-packages (from packaging->webdriver-manager) (3.0.9)\n",
      "Requirement already satisfied: certifi>=2017.4.17 in c:\\users\\asus\\appdata\\local\\programs\\python\\python310\\lib\\site-packages (from requests->webdriver-manager) (2022.9.24)\n",
      "Requirement already satisfied: idna<4,>=2.5 in c:\\users\\asus\\appdata\\local\\programs\\python\\python310\\lib\\site-packages (from requests->webdriver-manager) (3.4)\n",
      "Requirement already satisfied: urllib3<1.27,>=1.21.1 in c:\\users\\asus\\appdata\\local\\programs\\python\\python310\\lib\\site-packages (from requests->webdriver-manager) (1.26.12)\n",
      "Requirement already satisfied: charset-normalizer<3,>=2 in c:\\users\\asus\\appdata\\local\\programs\\python\\python310\\lib\\site-packages (from requests->webdriver-manager) (2.1.1)\n",
      "Requirement already satisfied: colorama in c:\\users\\asus\\appdata\\local\\programs\\python\\python310\\lib\\site-packages (from tqdm->webdriver-manager) (0.4.5)\n"
     ]
    }
   ],
   "source": [
    "%pip install webdriver-manager"
   ]
  },
  {
   "cell_type": "code",
   "execution_count": 6,
   "metadata": {},
   "outputs": [],
   "source": [
    "from selenium import webdriver\n",
    "from selenium.webdriver.chrome.service import Service as ChromeService\n",
    "from webdriver_manager.chrome import ChromeDriverManager\n",
    "from selenium.webdriver.chrome.options import Options\n",
    "from selenium.webdriver.common.by import By\n",
    "from selenium.webdriver.common.keys import Keys\n",
    "from selenium.webdriver.support.wait import WebDriverWait\n",
    "from selenium.webdriver.support import expected_conditions as EC\n",
    "import time"
   ]
  },
  {
   "cell_type": "markdown",
   "metadata": {},
   "source": [
    "# <b>Thu thập dữ liệu</b>"
   ]
  },
  {
   "cell_type": "code",
   "execution_count": 7,
   "metadata": {},
   "outputs": [],
   "source": [
    "url = 'https://www.worldweatheronline.com/ho-chi-minh-city-weather-history/vn.aspx'\n",
    "days = [31, 28, 31, 30, 31, 30, 31, 31, 30, 31, 30, 31]\n",
    "months = 12\n",
    "year = 2010\n",
    "weather_info_list = []              # List chứa dữ liệu thời tiết TP HCM 2010 - 2021"
   ]
  },
  {
   "cell_type": "code",
   "execution_count": 8,
   "metadata": {},
   "outputs": [],
   "source": [
    "# Thiết lập ChromeDriver\n",
    "service = ChromeService(executable_path=ChromeDriverManager().install())\n",
    "options = Options()\n",
    "options.add_argument('--headless')                              # Ẩn màn hình Chrome, chỉ chạy dưới nền\n",
    "options.add_argument('--window-size=1920, 1200')\n",
    "driver = webdriver.Chrome(service= service, options= options)    # Khởi tạo Driver\n",
    "\n",
    "driver.get(url)\n",
    "\n",
    "for month in range(months):\n",
    "    for date in range(days[month]):\n",
    "        # Nhập ngày cần tìm thông tin thời tiết\n",
    "        search_date = driver.find_element(by= By.XPATH, value= '//*[@id=\"ctl00_MainContentHolder_txtPastDate\"]')\n",
    "        driver.execute_script(f'arguments[0].setAttribute(\"value\", \"{year}-{month + 1:02}-{date + 1:02}\");', search_date)      # Eg: 2010-02-01 \n",
    "\n",
    "        # Nhấn nút 'Get Weather' để hiện thị dữ liệu thời tiết\n",
    "        get_weather_button = driver.find_element(by= By.XPATH, value= '//*[@id=\"ctl00_MainContentHolder_butShowPastWeather\"]')\n",
    "        driver.execute_script('arguments[0].click();', get_weather_button)\n",
    "\n",
    "        try:\n",
    "            # Chờ thao tác tìm kiếm kết thúc mới tiến hành thu thập dữ liệu\n",
    "            weather_info = WebDriverWait(driver, 15).until(\n",
    "                EC.presence_of_element_located((By.XPATH, '//*[@id=\"aspnetForm\"]/section[2]/div/div/div[1]/div[6]/div[2]'))\n",
    "            )\n",
    "\n",
    "            for i in range(2, 14):\n",
    "                # Năm\n",
    "                year_info = weather_info.find_element(by= By.XPATH, value= f'//*[@id=\"aspnetForm\"]/section[2]/div/div/div[1]/div[6]/div[2]/div[{i}1]')\n",
    "\n",
    "                # Loại thời tiết - Weather Type\n",
    "                weather_type_info = weather_info.find_element(by= By.XPATH, value= f'//*[@id=\"aspnetForm\"]/section[2]/div/div/div[1]/div[6]/div[2]/div[{i}2]/img')\n",
    "\n",
    "                # Nhiệt độ cao nhất - Highest Temperature\n",
    "                highest_temp_info = weather_info.find_element(by= By.XPATH, value= f'//*[@id=\"aspnetForm\"]/section[2]/div/div/div[1]/div[6]/div[2]/div[{i}3]')\n",
    "\n",
    "                # Nhiệt độ thấp nhất - Lowest Temperature\n",
    "                lowest_temp_info = weather_info.find_element(by= By.XPATH, value= f'//*[@id=\"aspnetForm\"]/section[2]/div/div/div[1]/div[6]/div[2]/div[{i}4]')\n",
    "\n",
    "                # Tốc độ gió - Wind Speed\n",
    "                wind_speed_info = weather_info.find_element(by= By.XPATH, value= f'//*[@id=\"aspnetForm\"]/section[2]/div/div/div[1]/div[6]/div[2]/div[{i}5]')\n",
    "\n",
    "                # Lượng mưa - Rain\n",
    "                rain_info = weather_info.find_element(by= By.XPATH, value= f'//*[@id=\"aspnetForm\"]/section[2]/div/div/div[1]/div[6]/div[2]/div[{i}6]')\n",
    "                \n",
    "                # Độ ẩm - Humidity\n",
    "                humidity_info = weather_info.find_element(by= By.XPATH, value= f'//*[@id=\"aspnetForm\"]/section[2]/div/div/div[1]/div[6]/div[2]/div[{i}7]')\n",
    "\n",
    "                # Độ che phủ của mây - Cloud\n",
    "                cloud_info = weather_info.find_element(by= By.XPATH, value= f'//*[@id=\"aspnetForm\"]/section[2]/div/div/div[1]/div[6]/div[2]/div[{i}8]')\n",
    "\n",
    "                # Áp suất không khí - Pressure\n",
    "                pressure_info = weather_info.find_element(by= By.XPATH, value= f'//*[@id=\"aspnetForm\"]/section[2]/div/div/div[1]/div[6]/div[2]/div[{i}9]')\n",
    "                \n",
    "                # Lưu dữ liệu vào dictionary\n",
    "                weather_in_date = {\n",
    "                    'Date': f'{int(year_info.text)}-{month + 1:02}-{date + 1:02}',\n",
    "                    'Weather Type': weather_type_info.get_attribute(\"title\"),\n",
    "                    'Highest Temperature': re.findall(r'\\d+', highest_temp_info.text)[0],\n",
    "                    'Lowest Temperature': re.findall(r'\\d+', lowest_temp_info.text)[0],\n",
    "                    'Wind Speed': re.findall(r'\\d+', wind_speed_info.text)[0],\n",
    "                    'Rain': re.findall(r'\\d+', rain_info.text)[0],\n",
    "                    'Humidity': re.findall(r'\\d+', humidity_info.text)[0],\n",
    "                    'Cloud': re.findall(r'\\d+', cloud_info.text)[0],\n",
    "                    'Pressure': re.findall(r'\\d+', pressure_info.text)[0],\n",
    "                }\n",
    "                \n",
    "                # Thêm thông tin lấy được vào list\n",
    "                weather_info_list.append(weather_in_date)\n",
    "\n",
    "        except:\n",
    "            print('An error occurred! Close browser!')\n",
    "            driver.quit()\n",
    "            exit()\n",
    "\n",
    "driver.quit()"
   ]
  },
  {
   "cell_type": "markdown",
   "metadata": {},
   "source": [
    "# <b>Lưu dữ liệu</b>"
   ]
  },
  {
   "cell_type": "code",
   "execution_count": 9,
   "metadata": {},
   "outputs": [
    {
     "name": "stdout",
     "output_type": "stream",
     "text": [
      "\n",
      "Data exported to csv succesfully!\n"
     ]
    }
   ],
   "source": [
    "header = list(weather_info_list[0].keys()) \n",
    "weather_info_list.sort(key=lambda item:item['Date'])\n",
    "\n",
    "try:\n",
    "   with open('weather_info.csv',mode='w',encoding='utf8',newline='') as output_to_csv:\n",
    "       dict_csv_writer = csv.DictWriter(output_to_csv, fieldnames=header,dialect='excel')\n",
    "       dict_csv_writer.writeheader()\n",
    "       dict_csv_writer.writerows(weather_info_list)\n",
    "   print('\\nData exported to csv succesfully!')\n",
    "except IOError as io:\n",
    "    print('\\n',io)"
   ]
  }
 ],
 "metadata": {
  "kernelspec": {
   "display_name": "Python 3.10.7 64-bit",
   "language": "python",
   "name": "python3"
  },
  "language_info": {
   "codemirror_mode": {
    "name": "ipython",
    "version": 3
   },
   "file_extension": ".py",
   "mimetype": "text/x-python",
   "name": "python",
   "nbconvert_exporter": "python",
   "pygments_lexer": "ipython3",
   "version": "3.10.7"
  },
  "orig_nbformat": 4,
  "vscode": {
   "interpreter": {
    "hash": "107d7b120a5b68773a87d4067e673630b35702e55ebab3138143d08b1c4d7cbc"
   }
  }
 },
 "nbformat": 4,
 "nbformat_minor": 2
}
