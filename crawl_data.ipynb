{
 "cells": [
  {
   "cell_type": "markdown",
   "metadata": {},
   "source": [
    "# <b>Mục tiêu</b>\n",
    "- Thu thập dữ liệu về thời tiết tại TP HCM theo từng ngày từ năm 2010 đến năm 2021.\n",
    "\n",
    "- Các trường dữ liệu sẽ thu thập bao gồm:\n",
    "    + Weather Type: Loại thời tiết\n",
    "    + Highest Temperature: Nhiệt độ cao nhất trong ngày ($^\\circ C$)\n",
    "    + Lowest Temperature: Nhiệt độ thấp nhất trong ngày ($^\\circ C$)\n",
    "    + Wind Speed: Tốc độ gió (km/h)\n",
    "    + Rain: Lượng mưa (mm)\n",
    "    + Humidity: Độ ẩm (%)\n",
    "    + Cloud: Độ che phủ của mây (%)\n",
    "    + Pressure: Áp suất không khí (mb)"
   ]
  },
  {
   "cell_type": "markdown",
   "metadata": {},
   "source": [
    "# <b>Import</b>"
   ]
  },
  {
   "cell_type": "code",
   "execution_count": 37,
   "metadata": {},
   "outputs": [],
   "source": [
    "import pandas as pd\n",
    "import numpy as np\n",
    "import re"
   ]
  },
  {
   "cell_type": "code",
   "execution_count": 2,
   "metadata": {},
   "outputs": [
    {
     "name": "stdout",
     "output_type": "stream",
     "text": [
      "Requirement already satisfied: bs4 in c:\\users\\dell\\anaconda3\\lib\\site-packages (0.0.1)\n",
      "Requirement already satisfied: beautifulsoup4 in c:\\users\\dell\\anaconda3\\lib\\site-packages (from bs4) (4.11.1)\n",
      "Requirement already satisfied: soupsieve>1.2 in c:\\users\\dell\\anaconda3\\lib\\site-packages (from beautifulsoup4->bs4) (2.3.1)\n",
      "Note: you may need to restart the kernel to use updated packages.\n"
     ]
    }
   ],
   "source": [
    "%pip install bs4"
   ]
  },
  {
   "cell_type": "code",
   "execution_count": 2,
   "metadata": {},
   "outputs": [],
   "source": [
    "from bs4 import BeautifulSoup"
   ]
  },
  {
   "cell_type": "code",
   "execution_count": 4,
   "metadata": {},
   "outputs": [
    {
     "name": "stdout",
     "output_type": "stream",
     "text": [
      "Collecting Selenium\n",
      "  Downloading selenium-4.6.0-py3-none-any.whl (5.2 MB)\n",
      "Collecting trio~=0.17\n",
      "  Downloading trio-0.22.0-py3-none-any.whl (384 kB)\n",
      "Requirement already satisfied: urllib3[socks]~=1.26 in c:\\users\\dell\\anaconda3\\lib\\site-packages (from Selenium) (1.26.9)\n",
      "Collecting trio-websocket~=0.9\n",
      "  Downloading trio_websocket-0.9.2-py3-none-any.whl (16 kB)\n",
      "Requirement already satisfied: certifi>=2021.10.8 in c:\\users\\dell\\anaconda3\\lib\\site-packages (from Selenium) (2022.9.24)\n",
      "Requirement already satisfied: attrs>=19.2.0 in c:\\users\\dell\\anaconda3\\lib\\site-packages (from trio~=0.17->Selenium) (21.4.0)\n",
      "Collecting outcome\n",
      "  Downloading outcome-1.2.0-py2.py3-none-any.whl (9.7 kB)\n",
      "Requirement already satisfied: cffi>=1.14 in c:\\users\\dell\\anaconda3\\lib\\site-packages (from trio~=0.17->Selenium) (1.15.0)\n",
      "Collecting sortedcontainers\n",
      "  Downloading sortedcontainers-2.4.0-py2.py3-none-any.whl (29 kB)\n",
      "Requirement already satisfied: idna in c:\\users\\dell\\anaconda3\\lib\\site-packages (from trio~=0.17->Selenium) (3.3)\n",
      "Collecting async-generator>=1.9\n",
      "  Downloading async_generator-1.10-py3-none-any.whl (18 kB)\n",
      "Collecting exceptiongroup>=1.0.0rc9\n",
      "  Downloading exceptiongroup-1.0.4-py3-none-any.whl (14 kB)\n",
      "Requirement already satisfied: sniffio in c:\\users\\dell\\anaconda3\\lib\\site-packages (from trio~=0.17->Selenium) (1.2.0)\n",
      "Requirement already satisfied: pycparser in c:\\users\\dell\\anaconda3\\lib\\site-packages (from cffi>=1.14->trio~=0.17->Selenium) (2.21)\n",
      "Collecting wsproto>=0.14\n",
      "  Downloading wsproto-1.2.0-py3-none-any.whl (24 kB)\n",
      "Requirement already satisfied: PySocks!=1.5.7,<2.0,>=1.5.6 in c:\\users\\dell\\anaconda3\\lib\\site-packages (from urllib3[socks]~=1.26->Selenium) (1.7.1)\n",
      "Collecting h11<1,>=0.9.0\n",
      "  Downloading h11-0.14.0-py3-none-any.whl (58 kB)\n",
      "Installing collected packages: sortedcontainers, outcome, h11, exceptiongroup, async-generator, wsproto, trio, trio-websocket, Selenium\n",
      "Successfully installed Selenium-4.6.0 async-generator-1.10 exceptiongroup-1.0.4 h11-0.14.0 outcome-1.2.0 sortedcontainers-2.4.0 trio-0.22.0 trio-websocket-0.9.2 wsproto-1.2.0\n",
      "Note: you may need to restart the kernel to use updated packages.\n"
     ]
    }
   ],
   "source": [
    "%pip install Selenium"
   ]
  },
  {
   "cell_type": "code",
   "execution_count": 5,
   "metadata": {},
   "outputs": [
    {
     "name": "stdout",
     "output_type": "stream",
     "text": [
      "Collecting webdriver-manager\n",
      "  Downloading webdriver_manager-3.8.5-py2.py3-none-any.whl (27 kB)\n",
      "Requirement already satisfied: packaging in c:\\users\\dell\\anaconda3\\lib\\site-packages (from webdriver-manager) (21.3)\n",
      "Requirement already satisfied: tqdm in c:\\users\\dell\\anaconda3\\lib\\site-packages (from webdriver-manager) (4.64.0)\n",
      "Collecting python-dotenv\n",
      "  Downloading python_dotenv-0.21.0-py3-none-any.whl (18 kB)\n",
      "Requirement already satisfied: requests in c:\\users\\dell\\anaconda3\\lib\\site-packages (from webdriver-manager) (2.27.1)\n",
      "Requirement already satisfied: pyparsing!=3.0.5,>=2.0.2 in c:\\users\\dell\\anaconda3\\lib\\site-packages (from packaging->webdriver-manager) (3.0.4)\n",
      "Requirement already satisfied: idna<4,>=2.5 in c:\\users\\dell\\anaconda3\\lib\\site-packages (from requests->webdriver-manager) (3.3)\n",
      "Note: you may need to restart the kernel to use updated packages.\n",
      "Requirement already satisfied: urllib3<1.27,>=1.21.1 in c:\\users\\dell\\anaconda3\\lib\\site-packages (from requests->webdriver-manager) (1.26.9)\n",
      "Requirement already satisfied: certifi>=2017.4.17 in c:\\users\\dell\\anaconda3\\lib\\site-packages (from requests->webdriver-manager) (2022.9.24)\n",
      "Requirement already satisfied: charset-normalizer~=2.0.0 in c:\\users\\dell\\anaconda3\\lib\\site-packages (from requests->webdriver-manager) (2.0.4)\n",
      "Requirement already satisfied: colorama in c:\\users\\dell\\anaconda3\\lib\\site-packages (from tqdm->webdriver-manager) (0.4.4)\n",
      "Installing collected packages: python-dotenv, webdriver-manager\n",
      "Successfully installed python-dotenv-0.21.0 webdriver-manager-3.8.5\n"
     ]
    }
   ],
   "source": [
    "%pip install webdriver-manager"
   ]
  },
  {
   "cell_type": "code",
   "execution_count": 21,
   "metadata": {},
   "outputs": [],
   "source": [
    "from selenium import webdriver\n",
    "from selenium.webdriver.chrome.service import Service as ChromeService\n",
    "from webdriver_manager.chrome import ChromeDriverManager\n",
    "from selenium.webdriver.chrome.options import Options\n",
    "from selenium.webdriver.common.by import By\n",
    "from selenium.webdriver.common.keys import Keys\n",
    "from selenium.webdriver.support.wait import WebDriverWait\n",
    "from selenium.webdriver.support import expected_conditions as EC\n",
    "import time"
   ]
  },
  {
   "cell_type": "markdown",
   "metadata": {},
   "source": [
    "# <b>Thu thập dữ liệu</b>"
   ]
  },
  {
   "cell_type": "code",
   "execution_count": 26,
   "metadata": {},
   "outputs": [],
   "source": [
    "url = 'https://www.worldweatheronline.com/ho-chi-minh-city-weather-history/vn.aspx'\n",
    "days = [31, 28, 31, 30, 31, 30, 31, 31, 30, 31, 30, 31]\n",
    "months = 12\n",
    "year = 2010\n",
    "weather_type = []\n",
    "highest_temp = []\n",
    "lowest_temp = []\n",
    "humidity = []\n",
    "rain = []\n",
    "wind_speed = []\n",
    "cloud = []\n",
    "preassure = []\n",
    "date = []"
   ]
  },
  {
   "cell_type": "code",
   "execution_count": 46,
   "metadata": {},
   "outputs": [
    {
     "name": "stdout",
     "output_type": "stream",
     "text": [
      "2009\n",
      "Patchy rain possible\n",
      "33\n",
      "23\n",
      "4\n",
      "1.0\n",
      "83\n",
      "39\n",
      "1009\n"
     ]
    }
   ],
   "source": [
    "# Thiết lập ChromeDriver\n",
    "service = ChromeService(executable_path=ChromeDriverManager().install())\n",
    "options = Options()\n",
    "options.headless = True\n",
    "options.add_argument('--headless')\n",
    "options.add_argument(\"--window-size=1920,1200\")\n",
    "driver = webdriver.Chrome(service=service, options= options)\n",
    "\n",
    "driver.get(url)\n",
    "\n",
    "search_date = driver.find_element(by= By.XPATH, value= '//*[@id=\"ctl00_MainContentHolder_txtPastDate\"]')\n",
    "search_date.send_keys('15-11-2020')\n",
    "search_date.send_keys(Keys.RETURN)\n",
    "\n",
    "get_weather_button = driver.find_element(by= By.XPATH, value= '//*[@id=\"ctl00_MainContentHolder_butShowPastWeather\"]')\n",
    "get_weather_button.click()\n",
    "\n",
    "try:\n",
    "    weather_info = WebDriverWait(driver, 10).until(\n",
    "        EC.presence_of_element_located((By.XPATH, '//*[@id=\"aspnetForm\"]/section[2]/div/div/div[1]/div[6]/div[2]'))\n",
    "    )\n",
    "\n",
    "    # Năm\n",
    "    year_info = weather_info.find_element(by= By.XPATH, value= '//*[@id=\"aspnetForm\"]/section[2]/div/div/div[1]/div[6]/div[2]/div[11]')\n",
    "    print(year_info.text)\n",
    "\n",
    "    # Loại thời tiết\n",
    "    weather_type_info = weather_info.find_element(by= By.XPATH, value= '//*[@id=\"aspnetForm\"]/section[2]/div/div/div[1]/div[6]/div[2]/div[12]/img')\n",
    "    print(weather_type_info.get_attribute(\"title\"))\n",
    "\n",
    "    # Nhiệt độ cao nhất\n",
    "    highest_temp_info = weather_info.find_element(by= By.XPATH, value= '//*[@id=\"aspnetForm\"]/section[2]/div/div/div[1]/div[6]/div[2]/div[13]')\n",
    "    print(re.findall(r'\\d+', highest_temp_info.text)[0])\n",
    "\n",
    "    # Nhiệt độ thấp nhất\n",
    "    lowest_temp_info = weather_info.find_element(by= By.XPATH, value= '//*[@id=\"aspnetForm\"]/section[2]/div/div/div[1]/div[6]/div[2]/div[14]')\n",
    "    print(re.findall(r'\\d+', lowest_temp_info.text)[0])\n",
    "\n",
    "    # Tốc độ gió\n",
    "    wind_speed_info = weather_info.find_element(by= By.XPATH, value= '//*[@id=\"aspnetForm\"]/section[2]/div/div/div[1]/div[6]/div[2]/div[15]')\n",
    "    print(re.findall(r'\\d+', wind_speed_info.text)[0])\n",
    "\n",
    "    # Lượng mưa \n",
    "    rain_info = weather_info.find_element(by= By.XPATH, value= '//*[@id=\"aspnetForm\"]/section[2]/div/div/div[1]/div[6]/div[2]/div[16]')\n",
    "    print(re.findall(r'\\d+.\\d+', rain_info.text)[0])\n",
    "\n",
    "    # Độ ẩm\n",
    "    humidity_info = weather_info.find_element(by= By.XPATH, value= '//*[@id=\"aspnetForm\"]/section[2]/div/div/div[1]/div[6]/div[2]/div[17]')\n",
    "    print(re.findall(r'\\d+', humidity_info.text)[0])\n",
    "\n",
    "    # Độ che phủ của mây\n",
    "    cloud_info = weather_info.find_element(by= By.XPATH, value= '//*[@id=\"aspnetForm\"]/section[2]/div/div/div[1]/div[6]/div[2]/div[18]')\n",
    "    print(re.findall(r'\\d+', cloud_info.text)[0])\n",
    "\n",
    "    # Áp suất không khí\n",
    "    pressure_info = weather_info.find_element(by= By.XPATH, value= '//*[@id=\"aspnetForm\"]/section[2]/div/div/div[1]/div[6]/div[2]/div[19]')\n",
    "    print(re.findall(r'\\d+', pressure_info.text)[0])\n",
    "\n",
    "finally:\n",
    "    driver.quit()"
   ]
  },
  {
   "cell_type": "markdown",
   "metadata": {},
   "source": [
    "# <b>Lưu dữ liệu</b>"
   ]
  },
  {
   "cell_type": "code",
   "execution_count": null,
   "metadata": {},
   "outputs": [],
   "source": []
  }
 ],
 "metadata": {
  "kernelspec": {
   "display_name": "base",
   "language": "python",
   "name": "python3"
  },
  "language_info": {
   "codemirror_mode": {
    "name": "ipython",
    "version": 3
   },
   "file_extension": ".py",
   "mimetype": "text/x-python",
   "name": "python",
   "nbconvert_exporter": "python",
   "pygments_lexer": "ipython3",
   "version": "3.8.8"
  },
  "orig_nbformat": 4,
  "vscode": {
   "interpreter": {
    "hash": "5ae58900cfbb8c43ab3495913814b7cf26024f51651a94ce8bf64d6111688e8d"
   }
  }
 },
 "nbformat": 4,
 "nbformat_minor": 2
}
