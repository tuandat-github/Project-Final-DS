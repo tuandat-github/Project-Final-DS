{
 "cells": [
  {
   "cell_type": "markdown",
   "metadata": {},
   "source": [
    "# <b>Mục tiêu</b>\n",
    "- Thu thập dữ liệu về thời tiết tại TP HCM theo từng ngày từ năm 2010 đến năm 2021.\n",
    "<br><br>\n",
    "- Các trường dữ liệu sẽ thu thập bao gồm:\n",
    "    + Weather Type: Loại thời tiết\n",
    "    + Highest Temperature: Nhiệt độ cao nhất trong ngày ($^\\circ C$)\n",
    "    + Lowest Temperature: Nhiệt độ thấp nhất trong ngày ($^\\circ C$)\n",
    "    + Wind Speed: Tốc độ gió (km/h)\n",
    "    + Rain: Lượng mưa (mm)\n",
    "    + Humidity: Độ ẩm (%)\n",
    "    + Cloud: Độ che phủ của mây (%)\n",
    "    + Pressure: Áp suất không khí (mb)\n",
    "<br><br>\n",
    "- Trả về:\n",
    "    + hcm_weather_info.csv: File CSV chứa dữ liệu.\n",
    "    + feature_description.csv: File CSV mô tả thông tin các trường dữ liệu."
   ]
  },
  {
   "cell_type": "markdown",
   "metadata": {},
   "source": [
    "# <b>Import</b>"
   ]
  },
  {
   "cell_type": "code",
   "execution_count": 87,
   "metadata": {},
   "outputs": [],
   "source": [
    "import pandas as pd\n",
    "import numpy as np\n",
    "import matplotlib.pyplot as plt\n",
    "import re\n",
    "import os"
   ]
  },
  {
   "cell_type": "markdown",
   "metadata": {},
   "source": [
    "%pip install bs4"
   ]
  },
  {
   "cell_type": "markdown",
   "metadata": {},
   "source": [
    "from bs4 import BeautifulSoup"
   ]
  },
  {
   "cell_type": "markdown",
   "metadata": {},
   "source": [
    "%pip install Selenium"
   ]
  },
  {
   "cell_type": "markdown",
   "metadata": {},
   "source": [
    "%pip install webdriver-manager"
   ]
  },
  {
   "cell_type": "code",
   "execution_count": 3,
   "metadata": {},
   "outputs": [],
   "source": [
    "from selenium import webdriver\n",
    "from selenium.webdriver.chrome.service import Service as ChromeService\n",
    "from webdriver_manager.chrome import ChromeDriverManager\n",
    "from selenium.webdriver.chrome.options import Options\n",
    "from selenium.webdriver.common.by import By\n",
    "from selenium.webdriver.common.keys import Keys\n",
    "from selenium.webdriver.support.wait import WebDriverWait\n",
    "from selenium.webdriver.support import expected_conditions as EC\n",
    "import time"
   ]
  },
  {
   "cell_type": "markdown",
   "metadata": {},
   "source": [
    "# <b>Thu thập dữ liệu</b>"
   ]
  },
  {
   "cell_type": "code",
   "execution_count": 4,
   "metadata": {},
   "outputs": [],
   "source": [
    "url = 'https://www.worldweatheronline.com/ho-chi-minh-city-weather-history/vn.aspx'\n",
    "days = [31, 28, 31, 30, 31, 30, 31, 31, 30, 31, 30, 31]\n",
    "months = 12\n",
    "year = 2010"
   ]
  },
  {
   "cell_type": "markdown",
   "metadata": {},
   "source": [
    "# Thiết lập ChromeDriver\n",
    "service = ChromeService(executable_path= ChromeDriverManager().install())\n",
    "options = Options()\n",
    "options.add_argument('--headless')                              # Ẩn màn hình Chrome, chỉ chạy dưới nền\n",
    "options.add_argument('--window-size=1920, 1200')\n",
    "driver = webdriver.Chrome(service= service, options= options)    # Khởi tạo Driver\n",
    "\n",
    "driver.get(url)\n",
    "\n",
    "weather_info_list = []              # List chứa dữ liệu thời tiết TP HCM 2010 - 2021\n",
    "exception_occured = False\n",
    "\n",
    "for month in range(months):\n",
    "    if exception_occured: break\n",
    "    for date in range(days[month]):\n",
    "        # Nhập ngày cần tìm thông tin thời tiết\n",
    "        search_date = driver.find_element(by= By.XPATH, value= '//*[@id=\"ctl00_MainContentHolder_txtPastDate\"]')\n",
    "        driver.execute_script(f'arguments[0].setAttribute(\"value\", \"{year}-{month + 1:02}-{date + 1:02}\");', search_date)      # Eg: 2010-02-01 \n",
    "\n",
    "        # Nhấn nút 'Get Weather' để hiện thị dữ liệu thời tiết\n",
    "        get_weather_button = driver.find_element(by= By.XPATH, value= '//*[@id=\"ctl00_MainContentHolder_butShowPastWeather\"]')\n",
    "        driver.execute_script('arguments[0].click();', get_weather_button)\n",
    "\n",
    "        try:\n",
    "            # Chờ thao tác tìm kiếm kết thúc mới tiến hành thu thập dữ liệu\n",
    "            weather_info = WebDriverWait(driver, 10).until(\n",
    "                EC.presence_of_element_located((By.XPATH, '//*[@id=\"aspnetForm\"]/section[2]/div/div/div[1]/div[6]/div[2]'))\n",
    "            )\n",
    "\n",
    "            for i in range(2, 14):\n",
    "                # Năm\n",
    "                year_info = weather_info.find_element(by= By.XPATH, value= f'//*[@id=\"aspnetForm\"]/section[2]/div/div/div[1]/div[6]/div[2]/div[{i}1]')\n",
    "\n",
    "                # Loại thời tiết - Weather Type\n",
    "                weather_type_info = weather_info.find_element(by= By.XPATH, value= f'//*[@id=\"aspnetForm\"]/section[2]/div/div/div[1]/div[6]/div[2]/div[{i}2]/img')\n",
    "\n",
    "                # Nhiệt độ cao nhất - Highest Temperature\n",
    "                highest_temp_info = weather_info.find_element(by= By.XPATH, value= f'//*[@id=\"aspnetForm\"]/section[2]/div/div/div[1]/div[6]/div[2]/div[{i}3]')\n",
    "\n",
    "                # Nhiệt độ thấp nhất - Lowest Temperature\n",
    "                lowest_temp_info = weather_info.find_element(by= By.XPATH, value= f'//*[@id=\"aspnetForm\"]/section[2]/div/div/div[1]/div[6]/div[2]/div[{i}4]')\n",
    "\n",
    "                # Tốc độ gió - Wind Speed\n",
    "                wind_speed_info = weather_info.find_element(by= By.XPATH, value= f'//*[@id=\"aspnetForm\"]/section[2]/div/div/div[1]/div[6]/div[2]/div[{i}5]')\n",
    "\n",
    "                # Lượng mưa - Rain\n",
    "                rain_info = weather_info.find_element(by= By.XPATH, value= f'//*[@id=\"aspnetForm\"]/section[2]/div/div/div[1]/div[6]/div[2]/div[{i}6]')\n",
    "\n",
    "                # Độ ẩm - Humidity\n",
    "                humidity_info = weather_info.find_element(by= By.XPATH, value= f'//*[@id=\"aspnetForm\"]/section[2]/div/div/div[1]/div[6]/div[2]/div[{i}7]')\n",
    "\n",
    "                # Độ che phủ của mây - Cloud\n",
    "                cloud_info = weather_info.find_element(by= By.XPATH, value= f'//*[@id=\"aspnetForm\"]/section[2]/div/div/div[1]/div[6]/div[2]/div[{i}8]')\n",
    "\n",
    "                # Áp suất không khí - Pressure\n",
    "                pressure_info = weather_info.find_element(by= By.XPATH, value= f'//*[@id=\"aspnetForm\"]/section[2]/div/div/div[1]/div[6]/div[2]/div[{i}9]')\n",
    "                \n",
    "                # Lưu dữ liệu vào dictionary\n",
    "                weather_in_date = {\n",
    "                    'Date': f'{int(year_info.text)}-{month + 1:02}-{date + 1:02}',\n",
    "                    'Weather Type': weather_type_info.get_attribute(\"title\"),\n",
    "                    'Highest Temperature': re.findall(r'\\d+', highest_temp_info.text)[0],\n",
    "                    'Lowest Temperature': re.findall(r'\\d+', lowest_temp_info.text)[0],\n",
    "                    'Wind Speed': re.findall(r'\\d+', wind_speed_info.text)[0],\n",
    "                    'Rain': re.findall(r'\\d+.\\d+', rain_info.text)[0],\n",
    "                    'Humidity': re.findall(r'\\d+', humidity_info.text)[0],\n",
    "                    'Cloud': re.findall(r'\\d+', cloud_info.text)[0],\n",
    "                    'Pressure': re.findall(r'\\d+', pressure_info.text)[0],\n",
    "                }\n",
    "                \n",
    "                # Thêm thông tin lấy được vào list\n",
    "                weather_info_list.append(weather_in_date)\n",
    "\n",
    "        except Exception as e:\n",
    "            print('An exception has occurred: ', e)\n",
    "            exception_occured = True\n",
    "            break\n",
    "\n",
    "driver.quit()"
   ]
  },
  {
   "cell_type": "markdown",
   "metadata": {},
   "source": [
    "hcm_weather_info_df = pd.DataFrame(weather_info_list) \n",
    "hcm_weather_info_df['Date'] = pd.to_datetime(hcm_weather_info_df['Date'], format= '%Y-%m-%d')\n",
    "hcm_weather_info_df = hcm_weather_info_df.sort_values(by= 'Date').reset_index(drop= True)\n",
    "hcm_weather_info_df"
   ]
  },
  {
   "cell_type": "markdown",
   "metadata": {},
   "source": [
    "feature_description_list = [\n",
    "    {'Feature': 'Weather Type', 'Description': 'Loại thời tiết'},\n",
    "    {'Feature': 'Highest Temperature', 'Description': u'Nhiệt độ cao nhất trong ngày (\\N{DEGREE SIGN}C)'},\n",
    "    {'Feature': 'Lowest Temperature', 'Description': u'Nhiệt độ thấp nhất trong ngày (\\N{DEGREE SIGN}C)'},\n",
    "    {'Feature': 'Wind Speed', 'Description': 'Tốc độ gió (km/h)'},\n",
    "    {'Feature': 'Rain', 'Description': 'Lượng mưa (mm)'},\n",
    "    {'Feature': 'Humidity', 'Description': 'Độ ẩm (%)'},\n",
    "    {'Feature': 'Cloud', 'Description': 'Độ che phủ của mây (%)'},\n",
    "    {'Feature': 'Pressure', 'Description': 'Áp suất không khí (mb)'},\n",
    "]"
   ]
  },
  {
   "cell_type": "markdown",
   "metadata": {},
   "source": [
    "feature_description_df = pd.DataFrame(feature_description_list)\n",
    "feature_description_df"
   ]
  },
  {
   "cell_type": "markdown",
   "metadata": {},
   "source": [
    "# <b>Lưu dữ liệu</b>"
   ]
  },
  {
   "cell_type": "markdown",
   "metadata": {},
   "source": [
    "# Tạo thư mục lưu dữ liệu\n",
    "list_file = os.listdir()\n",
    "if 'Data' not in list_file:\n",
    "     os.makedirs(\"Data\")"
   ]
  },
  {
   "cell_type": "markdown",
   "metadata": {},
   "source": [
    "# Lưu dữ liệu vào file CSV\n",
    "hcm_weather_info_df.to_csv('./Data/hcm_weather_info.csv', index= False)\n",
    "feature_description_df.to_csv('./Data/feature_description.csv', index= False)"
   ]
  },
  {
   "cell_type": "markdown",
   "metadata": {},
   "source": [
    "# KHÁM PHÁ DỮ LIỆU"
   ]
  },
  {
   "cell_type": "code",
   "execution_count": 13,
   "metadata": {
    "scrolled": true
   },
   "outputs": [
    {
     "data": {
      "text/html": [
       "<div>\n",
       "<style scoped>\n",
       "    .dataframe tbody tr th:only-of-type {\n",
       "        vertical-align: middle;\n",
       "    }\n",
       "\n",
       "    .dataframe tbody tr th {\n",
       "        vertical-align: top;\n",
       "    }\n",
       "\n",
       "    .dataframe thead th {\n",
       "        text-align: right;\n",
       "    }\n",
       "</style>\n",
       "<table border=\"1\" class=\"dataframe\">\n",
       "  <thead>\n",
       "    <tr style=\"text-align: right;\">\n",
       "      <th></th>\n",
       "      <th>Date</th>\n",
       "      <th>Weather Type</th>\n",
       "      <th>Highest Temperature</th>\n",
       "      <th>Lowest Temperature</th>\n",
       "      <th>Wind Speed</th>\n",
       "      <th>Rain</th>\n",
       "      <th>Humidity</th>\n",
       "      <th>Cloud</th>\n",
       "      <th>Pressure</th>\n",
       "    </tr>\n",
       "  </thead>\n",
       "  <tbody>\n",
       "    <tr>\n",
       "      <th>0</th>\n",
       "      <td>2010-01-01</td>\n",
       "      <td>Partly cloudy</td>\n",
       "      <td>34</td>\n",
       "      <td>24</td>\n",
       "      <td>6</td>\n",
       "      <td>0.0</td>\n",
       "      <td>59</td>\n",
       "      <td>20</td>\n",
       "      <td>1010</td>\n",
       "    </tr>\n",
       "    <tr>\n",
       "      <th>1</th>\n",
       "      <td>2010-01-02</td>\n",
       "      <td>Cloudy</td>\n",
       "      <td>32</td>\n",
       "      <td>24</td>\n",
       "      <td>7</td>\n",
       "      <td>0.0</td>\n",
       "      <td>61</td>\n",
       "      <td>48</td>\n",
       "      <td>1010</td>\n",
       "    </tr>\n",
       "    <tr>\n",
       "      <th>2</th>\n",
       "      <td>2010-01-03</td>\n",
       "      <td>Partly cloudy</td>\n",
       "      <td>33</td>\n",
       "      <td>26</td>\n",
       "      <td>7</td>\n",
       "      <td>0.0</td>\n",
       "      <td>65</td>\n",
       "      <td>37</td>\n",
       "      <td>1010</td>\n",
       "    </tr>\n",
       "    <tr>\n",
       "      <th>3</th>\n",
       "      <td>2010-01-04</td>\n",
       "      <td>Partly cloudy</td>\n",
       "      <td>35</td>\n",
       "      <td>25</td>\n",
       "      <td>9</td>\n",
       "      <td>0.1</td>\n",
       "      <td>61</td>\n",
       "      <td>42</td>\n",
       "      <td>1009</td>\n",
       "    </tr>\n",
       "    <tr>\n",
       "      <th>4</th>\n",
       "      <td>2010-01-05</td>\n",
       "      <td>Partly cloudy</td>\n",
       "      <td>35</td>\n",
       "      <td>26</td>\n",
       "      <td>10</td>\n",
       "      <td>0.0</td>\n",
       "      <td>57</td>\n",
       "      <td>35</td>\n",
       "      <td>1009</td>\n",
       "    </tr>\n",
       "  </tbody>\n",
       "</table>\n",
       "</div>"
      ],
      "text/plain": [
       "         Date   Weather Type  Highest Temperature  Lowest Temperature  \\\n",
       "0  2010-01-01  Partly cloudy                   34                  24   \n",
       "1  2010-01-02         Cloudy                   32                  24   \n",
       "2  2010-01-03  Partly cloudy                   33                  26   \n",
       "3  2010-01-04  Partly cloudy                   35                  25   \n",
       "4  2010-01-05  Partly cloudy                   35                  26   \n",
       "\n",
       "   Wind Speed  Rain  Humidity  Cloud  Pressure  \n",
       "0           6   0.0        59     20      1010  \n",
       "1           7   0.0        61     48      1010  \n",
       "2           7   0.0        65     37      1010  \n",
       "3           9   0.1        61     42      1009  \n",
       "4          10   0.0        57     35      1009  "
      ]
     },
     "execution_count": 13,
     "metadata": {},
     "output_type": "execute_result"
    }
   ],
   "source": [
    "df = pd.read_csv('Data/hcm_weather_info.csv')\n",
    "df.head()"
   ]
  },
  {
   "cell_type": "markdown",
   "metadata": {},
   "source": [
    "## ý nghĩa của các cột\n",
    "* **Date: thời gian**</br>\n",
    "* **Weather Type: Loại thời tiết**</br>\n",
    "* **Highest Temperature: Nhiệt độ cao nhất trong ngày (°C)**</br>\n",
    "* **Lowest Temperature: Nhiệt độ thấp nhất trong ngày (°C)**</br>\n",
    "* **Wind Speed: Tốc độ gió (km/h)**</br>\n",
    "* **Rain: Lượng mưa (mm)**</br>\n",
    "* **Humidity: Độ ẩm (%)**</br>\n",
    "* **Cloud: Độ che phủ của mây (%)**</br>\n",
    "* **Pressure: Áp suất không khí (mb)** "
   ]
  },
  {
   "cell_type": "markdown",
   "metadata": {},
   "source": [
    "## số dòng va cột của dữ liệu"
   ]
  },
  {
   "cell_type": "code",
   "execution_count": 14,
   "metadata": {},
   "outputs": [
    {
     "data": {
      "text/plain": [
       "(4380, 9)"
      ]
     },
     "execution_count": 14,
     "metadata": {},
     "output_type": "execute_result"
    }
   ],
   "source": [
    "df.shape"
   ]
  },
  {
   "cell_type": "markdown",
   "metadata": {},
   "source": [
    "- **như vậy dữ liệu có 4380 dòng và 9 cột**"
   ]
  },
  {
   "cell_type": "markdown",
   "metadata": {},
   "source": [
    "## Xem kiểu dữ liệu của các cột"
   ]
  },
  {
   "cell_type": "code",
   "execution_count": 9,
   "metadata": {},
   "outputs": [
    {
     "data": {
      "text/plain": [
       "Date                   datetime64[ns]\n",
       "Weather Type                   object\n",
       "Highest Temperature             int64\n",
       "Lowest Temperature              int64\n",
       "Wind Speed                      int64\n",
       "Rain                          float64\n",
       "Humidity                        int64\n",
       "Cloud                           int64\n",
       "Pressure                        int64\n",
       "dtype: object"
      ]
     },
     "execution_count": 9,
     "metadata": {},
     "output_type": "execute_result"
    }
   ],
   "source": [
    "df.dtypes"
   ]
  },
  {
   "cell_type": "markdown",
   "metadata": {},
   "source": [
    "## Chuyển kiểu dữ liệu cột 'Date' về datetime"
   ]
  },
  {
   "cell_type": "code",
   "execution_count": 17,
   "metadata": {},
   "outputs": [],
   "source": [
    "df['Date'] = pd.to_datetime(df['Date'])"
   ]
  },
  {
   "cell_type": "code",
   "execution_count": 19,
   "metadata": {},
   "outputs": [
    {
     "data": {
      "text/plain": [
       "Date                   datetime64[ns]\n",
       "Weather Type                   object\n",
       "Highest Temperature             int64\n",
       "Lowest Temperature              int64\n",
       "Wind Speed                      int64\n",
       "Rain                          float64\n",
       "Humidity                        int64\n",
       "Cloud                           int64\n",
       "Pressure                        int64\n",
       "dtype: object"
      ]
     },
     "execution_count": 19,
     "metadata": {},
     "output_type": "execute_result"
    }
   ],
   "source": [
    "df.dtypes"
   ]
  },
  {
   "cell_type": "markdown",
   "metadata": {},
   "source": [
    "## có cột nào bị thiếu dữ liệu không"
   ]
  },
  {
   "cell_type": "code",
   "execution_count": 11,
   "metadata": {},
   "outputs": [
    {
     "name": "stdout",
     "output_type": "stream",
     "text": [
      "<class 'pandas.core.frame.DataFrame'>\n",
      "RangeIndex: 4380 entries, 0 to 4379\n",
      "Data columns (total 9 columns):\n",
      " #   Column               Non-Null Count  Dtype         \n",
      "---  ------               --------------  -----         \n",
      " 0   Date                 4380 non-null   datetime64[ns]\n",
      " 1   Weather Type         4380 non-null   object        \n",
      " 2   Highest Temperature  4380 non-null   int64         \n",
      " 3   Lowest Temperature   4380 non-null   int64         \n",
      " 4   Wind Speed           4380 non-null   int64         \n",
      " 5   Rain                 4380 non-null   float64       \n",
      " 6   Humidity             4380 non-null   int64         \n",
      " 7   Cloud                4380 non-null   int64         \n",
      " 8   Pressure             4380 non-null   int64         \n",
      "dtypes: datetime64[ns](1), float64(1), int64(6), object(1)\n",
      "memory usage: 308.1+ KB\n"
     ]
    }
   ],
   "source": [
    "df.info()"
   ]
  },
  {
   "cell_type": "markdown",
   "metadata": {},
   "source": [
    "- **như vậy không có cột bị thiếu dữ liệu**"
   ]
  },
  {
   "cell_type": "markdown",
   "metadata": {},
   "source": [
    "## kiểm tra có dữ liệu trùng lắp không"
   ]
  },
  {
   "cell_type": "code",
   "execution_count": 22,
   "metadata": {
    "scrolled": true
   },
   "outputs": [
    {
     "data": {
      "text/plain": [
       "array([False])"
      ]
     },
     "execution_count": 22,
     "metadata": {},
     "output_type": "execute_result"
    }
   ],
   "source": [
    "df.duplicated().unique()"
   ]
  },
  {
   "cell_type": "markdown",
   "metadata": {},
   "source": [
    "- không có"
   ]
  },
  {
   "cell_type": "markdown",
   "metadata": {},
   "source": [
    "## kiểm tra phân bố của dữ liệu"
   ]
  },
  {
   "cell_type": "markdown",
   "metadata": {},
   "source": [
    "### các cột numeric"
   ]
  },
  {
   "cell_type": "code",
   "execution_count": 26,
   "metadata": {},
   "outputs": [
    {
     "data": {
      "text/plain": [
       "Index(['Date', 'Weather Type', 'Highest Temperature', 'Lowest Temperature',\n",
       "       'Wind Speed', 'Rain', 'Humidity', 'Cloud', 'Pressure'],\n",
       "      dtype='object')"
      ]
     },
     "execution_count": 26,
     "metadata": {},
     "output_type": "execute_result"
    }
   ],
   "source": [
    "df.columns"
   ]
  },
  {
   "cell_type": "code",
   "execution_count": 27,
   "metadata": {},
   "outputs": [],
   "source": [
    "numeric = ['Date', 'Highest Temperature', 'Lowest Temperature',\n",
    "       'Wind Speed', 'Rain', 'Humidity', 'Cloud', 'Pressure']"
   ]
  },
  {
   "cell_type": "code",
   "execution_count": 29,
   "metadata": {
    "scrolled": true
   },
   "outputs": [
    {
     "data": {
      "text/plain": [
       "Date                   datetime64[ns]\n",
       "Highest Temperature             int64\n",
       "Lowest Temperature              int64\n",
       "Wind Speed                      int64\n",
       "Rain                          float64\n",
       "Humidity                        int64\n",
       "Cloud                           int64\n",
       "Pressure                        int64\n",
       "dtype: object"
      ]
     },
     "execution_count": 29,
     "metadata": {},
     "output_type": "execute_result"
    }
   ],
   "source": [
    "df[numeric].dtypes"
   ]
  },
  {
   "cell_type": "code",
   "execution_count": 42,
   "metadata": {},
   "outputs": [],
   "source": [
    "def lower_quartile(s):\n",
    "    s = s[~np.isnan(s)]\n",
    "    sorted_val = np.sort(s.values)\n",
    "    lenght = len(s)\n",
    "    q1 = int(0.25 * lenght)\n",
    "    return sorted_val[q1]\n",
    "def median(s):\n",
    "    s = s[~np.isnan(s)]\n",
    "    sorted_val = np.sort(s.values)\n",
    "    lenght = len(s)\n",
    "    q1 = int(0.5 * lenght)\n",
    "    return sorted_val[q1]\n",
    "def upper_quartile(s):\n",
    "    s = s[~np.isnan(s)]\n",
    "    sorted_val = np.sort(s.values)\n",
    "    lenght = len(s)\n",
    "    q1 = int(0.75 * lenght)\n",
    "    return sorted_val[q1]\n",
    "def mean(s):\n",
    "    return s.mean()"
   ]
  },
  {
   "cell_type": "code",
   "execution_count": 55,
   "metadata": {
    "scrolled": false
   },
   "outputs": [
    {
     "data": {
      "text/html": [
       "<div>\n",
       "<style scoped>\n",
       "    .dataframe tbody tr th:only-of-type {\n",
       "        vertical-align: middle;\n",
       "    }\n",
       "\n",
       "    .dataframe tbody tr th {\n",
       "        vertical-align: top;\n",
       "    }\n",
       "\n",
       "    .dataframe thead th {\n",
       "        text-align: right;\n",
       "    }\n",
       "</style>\n",
       "<table border=\"1\" class=\"dataframe\">\n",
       "  <thead>\n",
       "    <tr style=\"text-align: right;\">\n",
       "      <th></th>\n",
       "      <th>Date</th>\n",
       "      <th>Highest Temperature</th>\n",
       "      <th>Lowest Temperature</th>\n",
       "      <th>Wind Speed</th>\n",
       "      <th>Rain</th>\n",
       "      <th>Humidity</th>\n",
       "      <th>Cloud</th>\n",
       "      <th>Pressure</th>\n",
       "    </tr>\n",
       "  </thead>\n",
       "  <tbody>\n",
       "    <tr>\n",
       "      <th>min</th>\n",
       "      <td>2010-01-01 00:00:00.000000000</td>\n",
       "      <td>22.0</td>\n",
       "      <td>16.0</td>\n",
       "      <td>3.0</td>\n",
       "      <td>0.0</td>\n",
       "      <td>45.0</td>\n",
       "      <td>0.0</td>\n",
       "      <td>1003.0</td>\n",
       "    </tr>\n",
       "    <tr>\n",
       "      <th>lower_quartile</th>\n",
       "      <td>2013-01-01 00:00:00.000000000</td>\n",
       "      <td>32.0</td>\n",
       "      <td>24.0</td>\n",
       "      <td>7.0</td>\n",
       "      <td>0.1</td>\n",
       "      <td>66.0</td>\n",
       "      <td>23.0</td>\n",
       "      <td>1008.0</td>\n",
       "    </tr>\n",
       "    <tr>\n",
       "      <th>median</th>\n",
       "      <td>2016-01-01 00:00:00.000000000</td>\n",
       "      <td>33.0</td>\n",
       "      <td>25.0</td>\n",
       "      <td>9.0</td>\n",
       "      <td>3.3</td>\n",
       "      <td>75.0</td>\n",
       "      <td>34.0</td>\n",
       "      <td>1009.0</td>\n",
       "    </tr>\n",
       "    <tr>\n",
       "      <th>upper_quartile</th>\n",
       "      <td>2019-01-01 00:00:00.000000000</td>\n",
       "      <td>35.0</td>\n",
       "      <td>26.0</td>\n",
       "      <td>12.0</td>\n",
       "      <td>11.1</td>\n",
       "      <td>82.0</td>\n",
       "      <td>50.0</td>\n",
       "      <td>1011.0</td>\n",
       "    </tr>\n",
       "    <tr>\n",
       "      <th>max</th>\n",
       "      <td>2021-12-31 00:00:00.000000000</td>\n",
       "      <td>41.0</td>\n",
       "      <td>30.0</td>\n",
       "      <td>26.0</td>\n",
       "      <td>253.3</td>\n",
       "      <td>96.0</td>\n",
       "      <td>99.0</td>\n",
       "      <td>1016.0</td>\n",
       "    </tr>\n",
       "    <tr>\n",
       "      <th>mean</th>\n",
       "      <td>2015-12-31 23:01:48.493150720</td>\n",
       "      <td>33.0</td>\n",
       "      <td>25.2</td>\n",
       "      <td>9.4</td>\n",
       "      <td>7.5</td>\n",
       "      <td>73.6</td>\n",
       "      <td>37.0</td>\n",
       "      <td>1009.3</td>\n",
       "    </tr>\n",
       "  </tbody>\n",
       "</table>\n",
       "</div>"
      ],
      "text/plain": [
       "                                        Date  Highest Temperature  \\\n",
       "min            2010-01-01 00:00:00.000000000                 22.0   \n",
       "lower_quartile 2013-01-01 00:00:00.000000000                 32.0   \n",
       "median         2016-01-01 00:00:00.000000000                 33.0   \n",
       "upper_quartile 2019-01-01 00:00:00.000000000                 35.0   \n",
       "max            2021-12-31 00:00:00.000000000                 41.0   \n",
       "mean           2015-12-31 23:01:48.493150720                 33.0   \n",
       "\n",
       "                Lowest Temperature  Wind Speed   Rain  Humidity  Cloud  \\\n",
       "min                           16.0         3.0    0.0      45.0    0.0   \n",
       "lower_quartile                24.0         7.0    0.1      66.0   23.0   \n",
       "median                        25.0         9.0    3.3      75.0   34.0   \n",
       "upper_quartile                26.0        12.0   11.1      82.0   50.0   \n",
       "max                           30.0        26.0  253.3      96.0   99.0   \n",
       "mean                          25.2         9.4    7.5      73.6   37.0   \n",
       "\n",
       "                Pressure  \n",
       "min               1003.0  \n",
       "lower_quartile    1008.0  \n",
       "median            1009.0  \n",
       "upper_quartile    1011.0  \n",
       "max               1016.0  \n",
       "mean              1009.3  "
      ]
     },
     "execution_count": 55,
     "metadata": {},
     "output_type": "execute_result"
    }
   ],
   "source": [
    "nume_profiles_df = df[numeric].agg([min, lower_quartile, median, upper_quartile, max, mean]).round(1)\n",
    "nume_profiles_df"
   ]
  },
  {
   "cell_type": "markdown",
   "metadata": {},
   "source": [
    "### các cột categori"
   ]
  },
  {
   "cell_type": "code",
   "execution_count": 47,
   "metadata": {},
   "outputs": [],
   "source": [
    "categori = ['Weather Type']"
   ]
  },
  {
   "cell_type": "code",
   "execution_count": 52,
   "metadata": {},
   "outputs": [],
   "source": [
    "def num_diff_vals(s):\n",
    "    ndv = s.nunique()\n",
    "    return ndv\n",
    "\n",
    "def diff_vals(s):\n",
    "    dv = s.unique()\n",
    "    dv = dv[~pd.isna(dv)]\n",
    "    return dv"
   ]
  },
  {
   "cell_type": "code",
   "execution_count": 57,
   "metadata": {
    "scrolled": true
   },
   "outputs": [
    {
     "data": {
      "text/html": [
       "<div>\n",
       "<style scoped>\n",
       "    .dataframe tbody tr th:only-of-type {\n",
       "        vertical-align: middle;\n",
       "    }\n",
       "\n",
       "    .dataframe tbody tr th {\n",
       "        vertical-align: top;\n",
       "    }\n",
       "\n",
       "    .dataframe thead th {\n",
       "        text-align: right;\n",
       "    }\n",
       "</style>\n",
       "<table border=\"1\" class=\"dataframe\">\n",
       "  <thead>\n",
       "    <tr style=\"text-align: right;\">\n",
       "      <th></th>\n",
       "      <th>Weather Type</th>\n",
       "    </tr>\n",
       "  </thead>\n",
       "  <tbody>\n",
       "    <tr>\n",
       "      <th>num_diff_vals</th>\n",
       "      <td>20</td>\n",
       "    </tr>\n",
       "    <tr>\n",
       "      <th>diff_vals</th>\n",
       "      <td>[Partly cloudy, Cloudy, Sunny, Patchy light dr...</td>\n",
       "    </tr>\n",
       "  </tbody>\n",
       "</table>\n",
       "</div>"
      ],
      "text/plain": [
       "                                                    Weather Type\n",
       "num_diff_vals                                                 20\n",
       "diff_vals      [Partly cloudy, Cloudy, Sunny, Patchy light dr..."
      ]
     },
     "execution_count": 57,
     "metadata": {},
     "output_type": "execute_result"
    }
   ],
   "source": [
    "cate_profiles_df = df[categori].agg([num_diff_vals, diff_vals])\n",
    "cate_profiles_df"
   ]
  },
  {
   "cell_type": "markdown",
   "metadata": {},
   "source": [
    "# đặt ra câu hỏi"
   ]
  },
  {
   "cell_type": "markdown",
   "metadata": {},
   "source": [
    "- **Nhiệt độ cao nhất trong ngày, Nhiệt độ thấp nhất trong ngày, Tốc độ gió, </br>\n",
    "Lượng mưa, Độ ẩm, Độ che phủ của mây, Áp suất không khí trung bình theo từng năm thay đổi như thế nào**"
   ]
  },
  {
   "cell_type": "code",
   "execution_count": 189,
   "metadata": {},
   "outputs": [],
   "source": [
    "df_year = df\n",
    "df_year['Year'] = df['Date'].dt.year\n",
    "x = df_year['Year'].unique()\n",
    "\n",
    "#Highest_Temperature = df_year[['Year','Highest Temperature']].groupby('Year').mean()\n",
    "#Lowest_Temperature = df_year[['Year','Lowest Temperature']].groupby('Year').mean()\n",
    "\n",
    "y1 = df_year[['Year','Highest Temperature']].groupby('Year').mean().values.round(1).flat[:]\n",
    "y2 = df_year[['Year','Lowest Temperature']].groupby('Year').mean().values.round(1).flat[:]\n",
    "y3 = df_year[['Year','Wind Speed']].groupby('Year').mean().values.round(1).flat[:]\n",
    "y4 = df_year[['Year','Rain']].groupby('Year').mean().values.round(1).flat[:]\n",
    "y5 = df_year[['Year','Humidity']].groupby('Year').mean().values.round(1).flat[:]\n",
    "y6 = df_year[['Year','Cloud']].groupby('Year').mean().values.round(1).flat[:]\n",
    "y7 = df_year[['Year','Pressure']].groupby('Year').mean().values.round(1).flat[:]"
   ]
  },
  {
   "cell_type": "code",
   "execution_count": 190,
   "metadata": {
    "scrolled": false
   },
   "outputs": [
    {
     "data": {
      "image/png": "[encoded data removed]",
      "text/plain": [
       "<Figure size 1600x2000 with 7 Axes>"
      ]
     },
     "metadata": {},
     "output_type": "display_data"
    }
   ],
   "source": [
    "plt.figure(figsize=(16,20))\n",
    "plt.subplot(4, 2, 1)\n",
    "font = {'size':10}\n",
    "\n",
    "plt.bar(x,y1)\n",
    "plt.xticks(x)\n",
    "plt.title(\"Trung bình nhiệt độ cao nhất trong ngày theo năm\",fontdict = font)\n",
    "plt.xlabel(\"Năm\",fontdict = font)\n",
    "plt.ylabel(\"Nhiệt độ (°C)\",fontdict = font)\n",
    "\n",
    "#plt.plot(x,y1)\n",
    "\n",
    "plt.subplot(4, 2, 2)\n",
    "plt.bar(x,y2)\n",
    "plt.xticks(x)\n",
    "plt.title(\"Trung bình nhiệt độ thấp nhất trong ngày theo năm\",fontdict = font)\n",
    "plt.xlabel(\"Năm\",fontdict = font)\n",
    "plt.ylabel(\"Nhiệt độ (°C)\",fontdict = font)\n",
    "\n",
    "plt.subplot(4, 2, 3)\n",
    "plt.bar(x,y3)\n",
    "plt.xticks(x)\n",
    "plt.title(\"Trung bình tốc độ gió theo năm\",fontdict = font)\n",
    "plt.xlabel(\"Năm\",fontdict = font)\n",
    "plt.ylabel(\"Tốc độ (km/h)\",fontdict = font)\n",
    "\n",
    "plt.subplot(4, 2, 4)\n",
    "plt.bar(x,y4)\n",
    "plt.xticks(x)\n",
    "plt.title(\"Trung bình lượng mưa trong ngày theo năm\",fontdict = font)\n",
    "plt.xlabel(\"Năm\",fontdict = font)\n",
    "plt.ylabel(\"Lượng mưa (mm)\",fontdict = font)\n",
    "\n",
    "plt.subplot(4, 2, 5)\n",
    "plt.bar(x,y5)\n",
    "plt.xticks(x)\n",
    "plt.title(\"Trung bình độ ẩm theo năm\",fontdict = font)\n",
    "plt.xlabel(\"Năm\",fontdict = font)\n",
    "plt.ylabel(\"Độ ẩm (%)\",fontdict = font)\n",
    "\n",
    "plt.subplot(4, 2, 6)\n",
    "plt.bar(x,y6)\n",
    "plt.xticks(x)\n",
    "plt.title(\"Trung bình độ che phủ của mây theo năm\",fontdict = font)\n",
    "plt.xlabel(\"Năm\",fontdict = font)\n",
    "plt.ylabel(\"Độ che phủ (%)\",fontdict = font)\n",
    "\n",
    "plt.subplot(4, 2, 7)\n",
    "plt.bar(x,y7-1000,bottom=1000)\n",
    "plt.xticks(x)\n",
    "plt.title(\"Trung bình áp suất không khí theo năm\",fontdict = font)\n",
    "plt.xlabel(\"Năm\",fontdict = font)\n",
    "plt.ylabel(\"Áp suất (mb)\",fontdict = font)\n",
    "\n",
    "#plt.xticks(size=8)\n",
    "#plt.yticks(size=8)\n",
    "#plt.legend(loc='center right',fontsize='xx-small')\n",
    "\n",
    "plt.show()"
   ]
  },
  {
   "cell_type": "markdown",
   "metadata": {},
   "source": [
    "- Ta có thể thấy trung bình nhiệt độ cao nhất thấp nhất trong ngày, độ ẩm, áp suất không có biến động nhiều qua các năm.\n",
    "- Tốc độ gió có xu hướng tăng dần và cao nhất vào năm 2015.\n",
    "- Lượng mưa biến động thất thường, năm thấp nhất là 2021 lượng mưa không bằng một nữa của 2015.\n",
    "- Độ che phủ của mây có sự tăng đột ngột vào năm 2020 và 2021.</br>\n",
    "Những phân tích trên nhầm để có cái nhìn tổng quát về sự thay đổi của những chỉ số thời tiết qua các năm."
   ]
  },
  {
   "cell_type": "code",
   "execution_count": 191,
   "metadata": {},
   "outputs": [
    {
     "data": {
      "text/html": [
       "<div>\n",
       "<style scoped>\n",
       "    .dataframe tbody tr th:only-of-type {\n",
       "        vertical-align: middle;\n",
       "    }\n",
       "\n",
       "    .dataframe tbody tr th {\n",
       "        vertical-align: top;\n",
       "    }\n",
       "\n",
       "    .dataframe thead th {\n",
       "        text-align: right;\n",
       "    }\n",
       "</style>\n",
       "<table border=\"1\" class=\"dataframe\">\n",
       "  <thead>\n",
       "    <tr style=\"text-align: right;\">\n",
       "      <th></th>\n",
       "      <th>Date</th>\n",
       "      <th>Weather Type</th>\n",
       "      <th>Highest Temperature</th>\n",
       "      <th>Lowest Temperature</th>\n",
       "      <th>Wind Speed</th>\n",
       "      <th>Rain</th>\n",
       "      <th>Humidity</th>\n",
       "      <th>Cloud</th>\n",
       "      <th>Pressure</th>\n",
       "      <th>Year</th>\n",
       "    </tr>\n",
       "  </thead>\n",
       "  <tbody>\n",
       "    <tr>\n",
       "      <th>0</th>\n",
       "      <td>2010-01-01</td>\n",
       "      <td>Partly cloudy</td>\n",
       "      <td>34</td>\n",
       "      <td>24</td>\n",
       "      <td>6</td>\n",
       "      <td>0.0</td>\n",
       "      <td>59</td>\n",
       "      <td>20</td>\n",
       "      <td>1010</td>\n",
       "      <td>2010</td>\n",
       "    </tr>\n",
       "    <tr>\n",
       "      <th>1</th>\n",
       "      <td>2010-01-02</td>\n",
       "      <td>Cloudy</td>\n",
       "      <td>32</td>\n",
       "      <td>24</td>\n",
       "      <td>7</td>\n",
       "      <td>0.0</td>\n",
       "      <td>61</td>\n",
       "      <td>48</td>\n",
       "      <td>1010</td>\n",
       "      <td>2010</td>\n",
       "    </tr>\n",
       "    <tr>\n",
       "      <th>2</th>\n",
       "      <td>2010-01-03</td>\n",
       "      <td>Partly cloudy</td>\n",
       "      <td>33</td>\n",
       "      <td>26</td>\n",
       "      <td>7</td>\n",
       "      <td>0.0</td>\n",
       "      <td>65</td>\n",
       "      <td>37</td>\n",
       "      <td>1010</td>\n",
       "      <td>2010</td>\n",
       "    </tr>\n",
       "    <tr>\n",
       "      <th>3</th>\n",
       "      <td>2010-01-04</td>\n",
       "      <td>Partly cloudy</td>\n",
       "      <td>35</td>\n",
       "      <td>25</td>\n",
       "      <td>9</td>\n",
       "      <td>0.1</td>\n",
       "      <td>61</td>\n",
       "      <td>42</td>\n",
       "      <td>1009</td>\n",
       "      <td>2010</td>\n",
       "    </tr>\n",
       "    <tr>\n",
       "      <th>4</th>\n",
       "      <td>2010-01-05</td>\n",
       "      <td>Partly cloudy</td>\n",
       "      <td>35</td>\n",
       "      <td>26</td>\n",
       "      <td>10</td>\n",
       "      <td>0.0</td>\n",
       "      <td>57</td>\n",
       "      <td>35</td>\n",
       "      <td>1009</td>\n",
       "      <td>2010</td>\n",
       "    </tr>\n",
       "    <tr>\n",
       "      <th>...</th>\n",
       "      <td>...</td>\n",
       "      <td>...</td>\n",
       "      <td>...</td>\n",
       "      <td>...</td>\n",
       "      <td>...</td>\n",
       "      <td>...</td>\n",
       "      <td>...</td>\n",
       "      <td>...</td>\n",
       "      <td>...</td>\n",
       "      <td>...</td>\n",
       "    </tr>\n",
       "    <tr>\n",
       "      <th>4375</th>\n",
       "      <td>2021-12-27</td>\n",
       "      <td>Light rain shower</td>\n",
       "      <td>34</td>\n",
       "      <td>23</td>\n",
       "      <td>5</td>\n",
       "      <td>1.8</td>\n",
       "      <td>73</td>\n",
       "      <td>61</td>\n",
       "      <td>1012</td>\n",
       "      <td>2021</td>\n",
       "    </tr>\n",
       "    <tr>\n",
       "      <th>4376</th>\n",
       "      <td>2021-12-28</td>\n",
       "      <td>Patchy rain possible</td>\n",
       "      <td>33</td>\n",
       "      <td>24</td>\n",
       "      <td>8</td>\n",
       "      <td>0.6</td>\n",
       "      <td>72</td>\n",
       "      <td>56</td>\n",
       "      <td>1012</td>\n",
       "      <td>2021</td>\n",
       "    </tr>\n",
       "    <tr>\n",
       "      <th>4377</th>\n",
       "      <td>2021-12-29</td>\n",
       "      <td>Light rain shower</td>\n",
       "      <td>32</td>\n",
       "      <td>23</td>\n",
       "      <td>8</td>\n",
       "      <td>2.2</td>\n",
       "      <td>79</td>\n",
       "      <td>64</td>\n",
       "      <td>1012</td>\n",
       "      <td>2021</td>\n",
       "    </tr>\n",
       "    <tr>\n",
       "      <th>4378</th>\n",
       "      <td>2021-12-30</td>\n",
       "      <td>Cloudy</td>\n",
       "      <td>28</td>\n",
       "      <td>22</td>\n",
       "      <td>7</td>\n",
       "      <td>0.0</td>\n",
       "      <td>79</td>\n",
       "      <td>45</td>\n",
       "      <td>1013</td>\n",
       "      <td>2021</td>\n",
       "    </tr>\n",
       "    <tr>\n",
       "      <th>4379</th>\n",
       "      <td>2021-12-31</td>\n",
       "      <td>Partly cloudy</td>\n",
       "      <td>33</td>\n",
       "      <td>22</td>\n",
       "      <td>9</td>\n",
       "      <td>0.0</td>\n",
       "      <td>62</td>\n",
       "      <td>20</td>\n",
       "      <td>1013</td>\n",
       "      <td>2021</td>\n",
       "    </tr>\n",
       "  </tbody>\n",
       "</table>\n",
       "<p>4380 rows × 10 columns</p>\n",
       "</div>"
      ],
      "text/plain": [
       "           Date          Weather Type  Highest Temperature  \\\n",
       "0    2010-01-01         Partly cloudy                   34   \n",
       "1    2010-01-02                Cloudy                   32   \n",
       "2    2010-01-03         Partly cloudy                   33   \n",
       "3    2010-01-04         Partly cloudy                   35   \n",
       "4    2010-01-05         Partly cloudy                   35   \n",
       "...         ...                   ...                  ...   \n",
       "4375 2021-12-27     Light rain shower                   34   \n",
       "4376 2021-12-28  Patchy rain possible                   33   \n",
       "4377 2021-12-29     Light rain shower                   32   \n",
       "4378 2021-12-30                Cloudy                   28   \n",
       "4379 2021-12-31         Partly cloudy                   33   \n",
       "\n",
       "      Lowest Temperature  Wind Speed  Rain  Humidity  Cloud  Pressure  Year  \n",
       "0                     24           6   0.0        59     20      1010  2010  \n",
       "1                     24           7   0.0        61     48      1010  2010  \n",
       "2                     26           7   0.0        65     37      1010  2010  \n",
       "3                     25           9   0.1        61     42      1009  2010  \n",
       "4                     26          10   0.0        57     35      1009  2010  \n",
       "...                  ...         ...   ...       ...    ...       ...   ...  \n",
       "4375                  23           5   1.8        73     61      1012  2021  \n",
       "4376                  24           8   0.6        72     56      1012  2021  \n",
       "4377                  23           8   2.2        79     64      1012  2021  \n",
       "4378                  22           7   0.0        79     45      1013  2021  \n",
       "4379                  22           9   0.0        62     20      1013  2021  \n",
       "\n",
       "[4380 rows x 10 columns]"
      ]
     },
     "execution_count": 191,
     "metadata": {},
     "output_type": "execute_result"
    }
   ],
   "source": [
    "df"
   ]
  }
 ],
 "metadata": {
  "kernelspec": {
   "display_name": "Python 3 (ipykernel)",
   "language": "python",
   "name": "python3"
  },
  "language_info": {
   "codemirror_mode": {
    "name": "ipython",
    "version": 3
   },
   "file_extension": ".py",
   "mimetype": "text/x-python",
   "name": "python",
   "nbconvert_exporter": "python",
   "pygments_lexer": "ipython3",
   "version": "3.9.13"
  },
  "vscode": {
   "interpreter": {
    "hash": "5ae58900cfbb8c43ab3495913814b7cf26024f51651a94ce8bf64d6111688e8d"
   }
  }
 },
 "nbformat": 4,
 "nbformat_minor": 2
}
